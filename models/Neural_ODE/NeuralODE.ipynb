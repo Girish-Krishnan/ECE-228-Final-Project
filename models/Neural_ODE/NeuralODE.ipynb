{
 "cells": [
  {
   "cell_type": "markdown",
   "id": "86d09cf7-5cbd-4312-ac86-e267fdd416ea",
   "metadata": {},
   "source": [
    "## Basic Neural ODE and Augmented Neural ODE"
   ]
  },
  {
   "cell_type": "code",
   "execution_count": 1,
   "id": "4233325c-c646-4991-bc6d-30c85c496a81",
   "metadata": {},
   "outputs": [],
   "source": [
    "import os\n",
    "import numpy as np\n",
    "import torch\n",
    "import torch.nn as nn\n",
    "import torch.optim as optim\n",
    "from torch.utils.data import Dataset, DataLoader, random_split\n",
    "import matplotlib.pyplot as plt\n",
    "from tqdm import tqdm\n",
    "from torchdiffeq import odeint"
   ]
  },
  {
   "cell_type": "code",
   "execution_count": 2,
   "id": "c8ad7ed7-13e1-45d7-b5a8-4341ee3a2831",
   "metadata": {},
   "outputs": [],
   "source": [
    "device = torch.device(\"cuda\" if torch.cuda.is_available() else \"cpu\")"
   ]
  },
  {
   "cell_type": "markdown",
   "id": "afb0ad90-8c3f-49df-90ef-3cd794d69630",
   "metadata": {},
   "source": [
    "### Dataset Preparation"
   ]
  },
  {
   "cell_type": "code",
   "execution_count": 3,
   "id": "e140570b-8342-4a09-9d87-840115d01570",
   "metadata": {},
   "outputs": [],
   "source": [
    "class SeismicDataset(Dataset):\n",
    "    def __init__(self, data_pairs):\n",
    "        self.data = []\n",
    "        self.targets = []\n",
    "        for seismic_path, velocity_path in data_pairs:\n",
    "            seismic = np.load(seismic_path)\n",
    "            velocity = np.load(velocity_path)\n",
    "            self.data.append(torch.from_numpy(seismic).float())\n",
    "            self.targets.append(torch.from_numpy(velocity).float())\n",
    "\n",
    "        self.data = torch.cat(self.data, dim=0)\n",
    "        self.targets = torch.cat(self.targets, dim=0)\n",
    "\n",
    "    def __len__(self):\n",
    "        return self.data.shape[0]\n",
    "\n",
    "    def __getitem__(self, idx):\n",
    "        x = self.data[idx]\n",
    "        y = self.targets[idx]\n",
    "        return x, y\n",
    "\n",
    "# Collect data file pairs\n",
    "data_pairs = [\n",
    "    ('FlatVel_A/data/data1.npy', 'FlatVel_A/model/model1.npy'),\n",
    "    ('CurveFault_A/seis2_1_0.npy', 'CurveFault_A/vel2_1_0.npy'),\n",
    "    ('FlatFault_A/seis2_1_0.npy', 'FlatFault_A/vel2_1_0.npy'),\n",
    "    ('Style_A/data/data1.npy', 'Style_A/model/model1.npy')\n",
    "]\n",
    "\n",
    "dataset = SeismicDataset(data_pairs)"
   ]
  },
  {
   "cell_type": "code",
   "execution_count": 4,
   "id": "78428012-92cf-4392-9c65-d939b18fc974",
   "metadata": {},
   "outputs": [],
   "source": [
    "# Split into train and validation\n",
    "train_size = int(0.7 * len(dataset))\n",
    "val_size = int(0.15 * len(dataset))\n",
    "test_size = len(dataset) - train_size - val_size\n",
    "train_dataset, val_dataset, test_dataset = random_split(dataset, [train_size, val_size, test_size])\n",
    "\n",
    "train_loader = DataLoader(train_dataset, batch_size=8, shuffle=True)\n",
    "val_loader = DataLoader(val_dataset, batch_size=8, shuffle=False)\n",
    "test_loader = DataLoader(test_dataset, batch_size=8, shuffle=False)"
   ]
  },
  {
   "cell_type": "markdown",
   "id": "9906d0d7-0b30-4428-b2c3-15278f22e90c",
   "metadata": {},
   "source": [
    "### Encoder"
   ]
  },
  {
   "cell_type": "code",
   "execution_count": 5,
   "id": "b33d5884-49c6-4105-8401-0a6f73140325",
   "metadata": {},
   "outputs": [],
   "source": [
    "class SeismicEncoder(nn.Module):\n",
    "    def __init__(self, latent_state=64):\n",
    "        super().__init__()\n",
    "        self.encoder = nn.Sequential(\n",
    "            nn.Conv2d(5, 32, kernel_size=3, stride=2, padding=1),\n",
    "            nn.ReLU(),\n",
    "            nn.Conv2d(32, 64, kernel_size=3, stride=2, padding=1),\n",
    "            nn.ReLU(),\n",
    "            nn.AdaptiveAvgPool2d((1, 1)),                          \n",
    "            nn.Flatten(),                                          \n",
    "            nn.Linear(64, latent_state)\n",
    "        )\n",
    "\n",
    "    def forward(self, x):  # x: (batch_size, num_sources, timesteps, num_receivers)\n",
    "        B, C, T, S = x.shape\n",
    "        x = x.to(device)\n",
    "        x = x.permute(0, 2, 1, 3)     \n",
    "        x = x.reshape(B * T, C, 1, S) \n",
    "        output = self.encoder(x).to(device)     \n",
    "        return output.view(B, T, -1)"
   ]
  },
  {
   "cell_type": "markdown",
   "id": "fcc2bfea-797f-43e9-b8a4-f6f8189cac04",
   "metadata": {},
   "source": [
    "### Base Function"
   ]
  },
  {
   "cell_type": "code",
   "execution_count": 6,
   "id": "92c94a1b-7672-43ac-91c5-eea234fc1331",
   "metadata": {},
   "outputs": [],
   "source": [
    "class ODEFunc(nn.Module):\n",
    "    def __init__(self, out_size):\n",
    "        super().__init__()\n",
    "        self.func = nn.Sequential(\n",
    "            nn.Linear(out_size+1, 128),\n",
    "            nn.Softplus(),\n",
    "            nn.Linear(128, 256),\n",
    "            nn.Softplus(),\n",
    "            nn.Linear(256, out_size)\n",
    "        )\n",
    "    def forward(self, t, x):\n",
    "        if t is None:\n",
    "            t =  torch.ones(x.shape[0], x.shape[1], 1, device = x.device)\n",
    "        elif isinstance(t, float) or t.ndim == 0:\n",
    "            t = torch.ones(x.shape[0], x.shape[1], 1, device = x.device)*t\n",
    "        else: \n",
    "            t = t\n",
    "        # print(x.shape)\n",
    "        # print(t.shape)\n",
    "        x = x.to(device)\n",
    "        t = t.to(device)\n",
    "        x = torch.cat((x, t), dim=-1)\n",
    "        x = self.func(x)\n",
    "        return x"
   ]
  },
  {
   "cell_type": "markdown",
   "id": "96a1be77-eb0a-41b6-a2b5-6cbbc05e2578",
   "metadata": {},
   "source": [
    "### Decoder"
   ]
  },
  {
   "cell_type": "code",
   "execution_count": 7,
   "id": "de268b25-8db0-430b-aaab-497fa013aa46",
   "metadata": {},
   "outputs": [],
   "source": [
    "class VelocityDecoder(nn.Module):\n",
    "    def __init__(self, latent_state=64):\n",
    "        super().__init__()\n",
    "        self.decoder = nn.Sequential(\n",
    "            nn.Linear(latent_state, 32 * 9 * 9),\n",
    "            nn.ReLU()\n",
    "        )\n",
    "        self.deconv = nn.Sequential(\n",
    "            nn.ConvTranspose2d(32, 16, kernel_size=4, stride=2, padding=1),\n",
    "            nn.ReLU(),\n",
    "            nn.ConvTranspose2d(16, 8, kernel_size=4, stride=2, padding=1),\n",
    "            nn.ReLU(),\n",
    "            nn.ConvTranspose2d(8, 1, kernel_size=3, padding=1),\n",
    "            nn.AdaptiveAvgPool2d((70,70))\n",
    "        )\n",
    "    def forward(self, x):\n",
    "        x = x.to(device)\n",
    "        x = self.decoder(x)        \n",
    "        x = x.view(-1, 32, 9, 9)\n",
    "        x = self.deconv(x)\n",
    "        return x"
   ]
  },
  {
   "cell_type": "markdown",
   "id": "ef269df5-66de-4924-acdb-59be6cc4c6c4",
   "metadata": {},
   "source": [
    "### Full Basic Neural ODE Model"
   ]
  },
  {
   "cell_type": "code",
   "execution_count": 8,
   "id": "5764ad0d-68b1-4696-8c95-ff7fed87d43d",
   "metadata": {},
   "outputs": [],
   "source": [
    "class NeuralODE(nn.Module):\n",
    "    def __init__(self, latent_state, tolerance, max_steps):\n",
    "        super().__init__()\n",
    "        self.encoder = SeismicEncoder(latent_state)\n",
    "        self.decoder = VelocityDecoder(latent_state) \n",
    "        self.neural_ode_model = ODEFunc(latent_state)\n",
    "        self.tolerance = tolerance\n",
    "        self.max_steps = max_steps\n",
    "    \n",
    "    def forward(self, x, times=None):\n",
    "        x = x.to(device)\n",
    "        x = self.encoder(x)\n",
    "        if times is None:\n",
    "            times = torch.tensor([0, 1]).float().type_as(x)\n",
    "            times = times.to(device)\n",
    "        y = odeint(func=self.neural_ode_model, \n",
    "                   y0=x, \n",
    "                   t=times, \n",
    "                   atol=self.tolerance, \n",
    "                   rtol=self.tolerance, \n",
    "                   method='dopri5', \n",
    "                   options={'max_num_steps':self.max_steps})\n",
    "        # print(y.shape)\n",
    "        _, batch_size, timestep, latent = y.shape\n",
    "        pred = self.decoder(y)\n",
    "        pred = pred.to(device)\n",
    "        pred = pred.view(timestep, batch_size, 1, 70, 70)\n",
    "        return pred"
   ]
  },
  {
   "cell_type": "markdown",
   "id": "4c1ce080-774a-4472-884b-9dedcb5d8fd2",
   "metadata": {},
   "source": [
    "### Training"
   ]
  },
  {
   "cell_type": "code",
   "execution_count": 9,
   "id": "1896efeb-cdf3-48fe-bdf8-b8e1abf2ccb3",
   "metadata": {},
   "outputs": [
    {
     "name": "stderr",
     "output_type": "stream",
     "text": [
      "Epoch 1/50: 100%|██████████| 175/175 [00:20<00:00,  8.57it/s]\n"
     ]
    },
    {
     "name": "stdout",
     "output_type": "stream",
     "text": [
      "Epoch [1/50] Train MAE: 1433.3998 Val MAE: 587.1537\n"
     ]
    },
    {
     "name": "stderr",
     "output_type": "stream",
     "text": [
      "Epoch 2/50: 100%|██████████| 175/175 [00:19<00:00,  8.89it/s]\n"
     ]
    },
    {
     "name": "stdout",
     "output_type": "stream",
     "text": [
      "Epoch [2/50] Train MAE: 566.7030 Val MAE: 546.6722\n"
     ]
    },
    {
     "name": "stderr",
     "output_type": "stream",
     "text": [
      "Epoch 3/50: 100%|██████████| 175/175 [00:19<00:00,  8.89it/s]\n"
     ]
    },
    {
     "name": "stdout",
     "output_type": "stream",
     "text": [
      "Epoch [3/50] Train MAE: 531.2502 Val MAE: 525.2208\n"
     ]
    },
    {
     "name": "stderr",
     "output_type": "stream",
     "text": [
      "Epoch 4/50: 100%|██████████| 175/175 [00:19<00:00,  8.93it/s]\n"
     ]
    },
    {
     "name": "stdout",
     "output_type": "stream",
     "text": [
      "Epoch [4/50] Train MAE: 517.9911 Val MAE: 508.1294\n"
     ]
    },
    {
     "name": "stderr",
     "output_type": "stream",
     "text": [
      "Epoch 5/50: 100%|██████████| 175/175 [00:19<00:00,  8.94it/s]\n"
     ]
    },
    {
     "name": "stdout",
     "output_type": "stream",
     "text": [
      "Epoch [5/50] Train MAE: 499.7829 Val MAE: 491.3717\n"
     ]
    },
    {
     "name": "stderr",
     "output_type": "stream",
     "text": [
      "Epoch 6/50: 100%|██████████| 175/175 [00:19<00:00,  8.94it/s]\n"
     ]
    },
    {
     "name": "stdout",
     "output_type": "stream",
     "text": [
      "Epoch [6/50] Train MAE: 490.3623 Val MAE: 482.9946\n"
     ]
    },
    {
     "name": "stderr",
     "output_type": "stream",
     "text": [
      "Epoch 7/50: 100%|██████████| 175/175 [00:19<00:00,  8.97it/s]\n"
     ]
    },
    {
     "name": "stdout",
     "output_type": "stream",
     "text": [
      "Epoch [7/50] Train MAE: 485.8322 Val MAE: 476.7227\n"
     ]
    },
    {
     "name": "stderr",
     "output_type": "stream",
     "text": [
      "Epoch 8/50: 100%|██████████| 175/175 [00:19<00:00,  8.95it/s]\n"
     ]
    },
    {
     "name": "stdout",
     "output_type": "stream",
     "text": [
      "Epoch [8/50] Train MAE: 489.5135 Val MAE: 500.0382\n"
     ]
    },
    {
     "name": "stderr",
     "output_type": "stream",
     "text": [
      "Epoch 9/50: 100%|██████████| 175/175 [00:19<00:00,  8.97it/s]\n"
     ]
    },
    {
     "name": "stdout",
     "output_type": "stream",
     "text": [
      "Epoch [9/50] Train MAE: 478.6005 Val MAE: 472.2659\n"
     ]
    },
    {
     "name": "stderr",
     "output_type": "stream",
     "text": [
      "Epoch 10/50: 100%|██████████| 175/175 [00:19<00:00,  8.93it/s]\n"
     ]
    },
    {
     "name": "stdout",
     "output_type": "stream",
     "text": [
      "Epoch [10/50] Train MAE: 471.5647 Val MAE: 472.3232\n"
     ]
    },
    {
     "name": "stderr",
     "output_type": "stream",
     "text": [
      "Epoch 11/50: 100%|██████████| 175/175 [00:19<00:00,  8.90it/s]\n"
     ]
    },
    {
     "name": "stdout",
     "output_type": "stream",
     "text": [
      "Epoch [11/50] Train MAE: 470.4049 Val MAE: 472.0152\n"
     ]
    },
    {
     "name": "stderr",
     "output_type": "stream",
     "text": [
      "Epoch 12/50: 100%|██████████| 175/175 [00:19<00:00,  8.88it/s]\n"
     ]
    },
    {
     "name": "stdout",
     "output_type": "stream",
     "text": [
      "Epoch [12/50] Train MAE: 470.1501 Val MAE: 484.6808\n"
     ]
    },
    {
     "name": "stderr",
     "output_type": "stream",
     "text": [
      "Epoch 13/50: 100%|██████████| 175/175 [00:19<00:00,  8.90it/s]\n"
     ]
    },
    {
     "name": "stdout",
     "output_type": "stream",
     "text": [
      "Epoch [13/50] Train MAE: 469.0994 Val MAE: 471.0024\n"
     ]
    },
    {
     "name": "stderr",
     "output_type": "stream",
     "text": [
      "Epoch 14/50: 100%|██████████| 175/175 [00:19<00:00,  8.91it/s]\n"
     ]
    },
    {
     "name": "stdout",
     "output_type": "stream",
     "text": [
      "Epoch [14/50] Train MAE: 469.5658 Val MAE: 469.6793\n"
     ]
    },
    {
     "name": "stderr",
     "output_type": "stream",
     "text": [
      "Epoch 15/50: 100%|██████████| 175/175 [00:19<00:00,  8.88it/s]\n"
     ]
    },
    {
     "name": "stdout",
     "output_type": "stream",
     "text": [
      "Epoch [15/50] Train MAE: 469.2343 Val MAE: 469.8640\n"
     ]
    },
    {
     "name": "stderr",
     "output_type": "stream",
     "text": [
      "Epoch 16/50: 100%|██████████| 175/175 [00:19<00:00,  8.90it/s]\n"
     ]
    },
    {
     "name": "stdout",
     "output_type": "stream",
     "text": [
      "Epoch [16/50] Train MAE: 469.9946 Val MAE: 469.2273\n"
     ]
    },
    {
     "name": "stderr",
     "output_type": "stream",
     "text": [
      "Epoch 17/50: 100%|██████████| 175/175 [00:19<00:00,  8.89it/s]\n"
     ]
    },
    {
     "name": "stdout",
     "output_type": "stream",
     "text": [
      "Epoch [17/50] Train MAE: 470.0627 Val MAE: 468.7177\n"
     ]
    },
    {
     "name": "stderr",
     "output_type": "stream",
     "text": [
      "Epoch 18/50: 100%|██████████| 175/175 [00:19<00:00,  8.88it/s]\n"
     ]
    },
    {
     "name": "stdout",
     "output_type": "stream",
     "text": [
      "Epoch [18/50] Train MAE: 469.8218 Val MAE: 469.8395\n"
     ]
    },
    {
     "name": "stderr",
     "output_type": "stream",
     "text": [
      "Epoch 19/50: 100%|██████████| 175/175 [00:19<00:00,  8.89it/s]\n"
     ]
    },
    {
     "name": "stdout",
     "output_type": "stream",
     "text": [
      "Epoch [19/50] Train MAE: 468.7973 Val MAE: 470.7593\n"
     ]
    },
    {
     "name": "stderr",
     "output_type": "stream",
     "text": [
      "Epoch 20/50: 100%|██████████| 175/175 [00:19<00:00,  8.91it/s]\n"
     ]
    },
    {
     "name": "stdout",
     "output_type": "stream",
     "text": [
      "Epoch [20/50] Train MAE: 469.7271 Val MAE: 469.0816\n"
     ]
    },
    {
     "name": "stderr",
     "output_type": "stream",
     "text": [
      "Epoch 21/50: 100%|██████████| 175/175 [00:19<00:00,  8.92it/s]\n"
     ]
    },
    {
     "name": "stdout",
     "output_type": "stream",
     "text": [
      "Epoch [21/50] Train MAE: 469.5568 Val MAE: 470.0515\n"
     ]
    },
    {
     "name": "stderr",
     "output_type": "stream",
     "text": [
      "Epoch 22/50: 100%|██████████| 175/175 [00:19<00:00,  8.91it/s]\n"
     ]
    },
    {
     "name": "stdout",
     "output_type": "stream",
     "text": [
      "Epoch [22/50] Train MAE: 467.7225 Val MAE: 471.2073\n"
     ]
    },
    {
     "name": "stderr",
     "output_type": "stream",
     "text": [
      "Epoch 23/50: 100%|██████████| 175/175 [00:19<00:00,  8.89it/s]\n"
     ]
    },
    {
     "name": "stdout",
     "output_type": "stream",
     "text": [
      "Epoch [23/50] Train MAE: 467.2925 Val MAE: 468.5875\n"
     ]
    },
    {
     "name": "stderr",
     "output_type": "stream",
     "text": [
      "Epoch 24/50: 100%|██████████| 175/175 [00:19<00:00,  8.89it/s]\n"
     ]
    },
    {
     "name": "stdout",
     "output_type": "stream",
     "text": [
      "Epoch [24/50] Train MAE: 467.5417 Val MAE: 470.5162\n"
     ]
    },
    {
     "name": "stderr",
     "output_type": "stream",
     "text": [
      "Epoch 25/50: 100%|██████████| 175/175 [00:19<00:00,  8.90it/s]\n"
     ]
    },
    {
     "name": "stdout",
     "output_type": "stream",
     "text": [
      "Epoch [25/50] Train MAE: 468.0582 Val MAE: 468.0082\n"
     ]
    },
    {
     "name": "stderr",
     "output_type": "stream",
     "text": [
      "Epoch 26/50: 100%|██████████| 175/175 [00:19<00:00,  8.90it/s]\n"
     ]
    },
    {
     "name": "stdout",
     "output_type": "stream",
     "text": [
      "Epoch [26/50] Train MAE: 468.5382 Val MAE: 469.6343\n"
     ]
    },
    {
     "name": "stderr",
     "output_type": "stream",
     "text": [
      "Epoch 27/50: 100%|██████████| 175/175 [00:19<00:00,  8.91it/s]\n"
     ]
    },
    {
     "name": "stdout",
     "output_type": "stream",
     "text": [
      "Epoch [27/50] Train MAE: 469.4933 Val MAE: 469.5456\n"
     ]
    },
    {
     "name": "stderr",
     "output_type": "stream",
     "text": [
      "Epoch 28/50: 100%|██████████| 175/175 [00:19<00:00,  8.90it/s]\n"
     ]
    },
    {
     "name": "stdout",
     "output_type": "stream",
     "text": [
      "Epoch [28/50] Train MAE: 468.5895 Val MAE: 468.1464\n"
     ]
    },
    {
     "name": "stderr",
     "output_type": "stream",
     "text": [
      "Epoch 29/50: 100%|██████████| 175/175 [00:19<00:00,  8.89it/s]\n"
     ]
    },
    {
     "name": "stdout",
     "output_type": "stream",
     "text": [
      "Epoch [29/50] Train MAE: 466.8940 Val MAE: 471.2388\n"
     ]
    },
    {
     "name": "stderr",
     "output_type": "stream",
     "text": [
      "Epoch 30/50: 100%|██████████| 175/175 [00:19<00:00,  8.90it/s]\n"
     ]
    },
    {
     "name": "stdout",
     "output_type": "stream",
     "text": [
      "Epoch [30/50] Train MAE: 466.2295 Val MAE: 474.6962\n"
     ]
    },
    {
     "name": "stderr",
     "output_type": "stream",
     "text": [
      "Epoch 31/50: 100%|██████████| 175/175 [00:19<00:00,  8.89it/s]\n"
     ]
    },
    {
     "name": "stdout",
     "output_type": "stream",
     "text": [
      "Epoch [31/50] Train MAE: 465.6834 Val MAE: 472.0217\n"
     ]
    },
    {
     "name": "stderr",
     "output_type": "stream",
     "text": [
      "Epoch 32/50: 100%|██████████| 175/175 [00:19<00:00,  8.89it/s]\n"
     ]
    },
    {
     "name": "stdout",
     "output_type": "stream",
     "text": [
      "Epoch [32/50] Train MAE: 466.6890 Val MAE: 469.7528\n"
     ]
    },
    {
     "name": "stderr",
     "output_type": "stream",
     "text": [
      "Epoch 33/50: 100%|██████████| 175/175 [00:19<00:00,  8.90it/s]\n"
     ]
    },
    {
     "name": "stdout",
     "output_type": "stream",
     "text": [
      "Epoch [33/50] Train MAE: 466.4337 Val MAE: 470.6149\n"
     ]
    },
    {
     "name": "stderr",
     "output_type": "stream",
     "text": [
      "Epoch 34/50: 100%|██████████| 175/175 [00:19<00:00,  8.87it/s]\n"
     ]
    },
    {
     "name": "stdout",
     "output_type": "stream",
     "text": [
      "Epoch [34/50] Train MAE: 466.5316 Val MAE: 469.2396\n"
     ]
    },
    {
     "name": "stderr",
     "output_type": "stream",
     "text": [
      "Epoch 35/50: 100%|██████████| 175/175 [00:19<00:00,  8.85it/s]\n"
     ]
    },
    {
     "name": "stdout",
     "output_type": "stream",
     "text": [
      "Epoch [35/50] Train MAE: 466.3349 Val MAE: 469.8286\n"
     ]
    },
    {
     "name": "stderr",
     "output_type": "stream",
     "text": [
      "Epoch 36/50: 100%|██████████| 175/175 [00:19<00:00,  8.90it/s]\n"
     ]
    },
    {
     "name": "stdout",
     "output_type": "stream",
     "text": [
      "Epoch [36/50] Train MAE: 467.1669 Val MAE: 468.6341\n"
     ]
    },
    {
     "name": "stderr",
     "output_type": "stream",
     "text": [
      "Epoch 37/50: 100%|██████████| 175/175 [00:19<00:00,  8.89it/s]\n"
     ]
    },
    {
     "name": "stdout",
     "output_type": "stream",
     "text": [
      "Epoch [37/50] Train MAE: 466.1187 Val MAE: 468.3979\n"
     ]
    },
    {
     "name": "stderr",
     "output_type": "stream",
     "text": [
      "Epoch 38/50: 100%|██████████| 175/175 [00:19<00:00,  8.90it/s]\n"
     ]
    },
    {
     "name": "stdout",
     "output_type": "stream",
     "text": [
      "Epoch [38/50] Train MAE: 465.6068 Val MAE: 472.2538\n"
     ]
    },
    {
     "name": "stderr",
     "output_type": "stream",
     "text": [
      "Epoch 39/50: 100%|██████████| 175/175 [00:19<00:00,  8.90it/s]\n"
     ]
    },
    {
     "name": "stdout",
     "output_type": "stream",
     "text": [
      "Epoch [39/50] Train MAE: 465.9100 Val MAE: 468.2429\n"
     ]
    },
    {
     "name": "stderr",
     "output_type": "stream",
     "text": [
      "Epoch 40/50: 100%|██████████| 175/175 [00:19<00:00,  8.90it/s]\n"
     ]
    },
    {
     "name": "stdout",
     "output_type": "stream",
     "text": [
      "Epoch [40/50] Train MAE: 465.6737 Val MAE: 469.1647\n"
     ]
    },
    {
     "name": "stderr",
     "output_type": "stream",
     "text": [
      "Epoch 41/50: 100%|██████████| 175/175 [00:19<00:00,  8.89it/s]\n"
     ]
    },
    {
     "name": "stdout",
     "output_type": "stream",
     "text": [
      "Epoch [41/50] Train MAE: 465.5381 Val MAE: 468.8122\n"
     ]
    },
    {
     "name": "stderr",
     "output_type": "stream",
     "text": [
      "Epoch 42/50: 100%|██████████| 175/175 [00:19<00:00,  8.89it/s]\n"
     ]
    },
    {
     "name": "stdout",
     "output_type": "stream",
     "text": [
      "Epoch [42/50] Train MAE: 466.5921 Val MAE: 468.5449\n"
     ]
    },
    {
     "name": "stderr",
     "output_type": "stream",
     "text": [
      "Epoch 43/50: 100%|██████████| 175/175 [00:19<00:00,  8.89it/s]\n"
     ]
    },
    {
     "name": "stdout",
     "output_type": "stream",
     "text": [
      "Epoch [43/50] Train MAE: 465.2259 Val MAE: 468.3689\n"
     ]
    },
    {
     "name": "stderr",
     "output_type": "stream",
     "text": [
      "Epoch 44/50: 100%|██████████| 175/175 [00:19<00:00,  8.88it/s]\n"
     ]
    },
    {
     "name": "stdout",
     "output_type": "stream",
     "text": [
      "Epoch [44/50] Train MAE: 465.4583 Val MAE: 468.3142\n"
     ]
    },
    {
     "name": "stderr",
     "output_type": "stream",
     "text": [
      "Epoch 45/50: 100%|██████████| 175/175 [00:19<00:00,  8.89it/s]\n"
     ]
    },
    {
     "name": "stdout",
     "output_type": "stream",
     "text": [
      "Epoch [45/50] Train MAE: 466.6348 Val MAE: 468.8357\n"
     ]
    },
    {
     "name": "stderr",
     "output_type": "stream",
     "text": [
      "Epoch 46/50: 100%|██████████| 175/175 [00:19<00:00,  8.88it/s]\n"
     ]
    },
    {
     "name": "stdout",
     "output_type": "stream",
     "text": [
      "Epoch [46/50] Train MAE: 465.0585 Val MAE: 469.9868\n"
     ]
    },
    {
     "name": "stderr",
     "output_type": "stream",
     "text": [
      "Epoch 47/50: 100%|██████████| 175/175 [00:19<00:00,  8.90it/s]\n"
     ]
    },
    {
     "name": "stdout",
     "output_type": "stream",
     "text": [
      "Epoch [47/50] Train MAE: 465.7533 Val MAE: 468.5407\n"
     ]
    },
    {
     "name": "stderr",
     "output_type": "stream",
     "text": [
      "Epoch 48/50: 100%|██████████| 175/175 [00:19<00:00,  8.89it/s]\n"
     ]
    },
    {
     "name": "stdout",
     "output_type": "stream",
     "text": [
      "Epoch [48/50] Train MAE: 465.9729 Val MAE: 468.9306\n"
     ]
    },
    {
     "name": "stderr",
     "output_type": "stream",
     "text": [
      "Epoch 49/50: 100%|██████████| 175/175 [00:19<00:00,  8.88it/s]\n"
     ]
    },
    {
     "name": "stdout",
     "output_type": "stream",
     "text": [
      "Epoch [49/50] Train MAE: 466.2636 Val MAE: 468.2217\n"
     ]
    },
    {
     "name": "stderr",
     "output_type": "stream",
     "text": [
      "Epoch 50/50: 100%|██████████| 175/175 [00:19<00:00,  8.89it/s]\n"
     ]
    },
    {
     "name": "stdout",
     "output_type": "stream",
     "text": [
      "Epoch [50/50] Train MAE: 465.0290 Val MAE: 468.2255\n"
     ]
    }
   ],
   "source": [
    "model = NeuralODE(64, 1e-3, 100)\n",
    "step_size = 10\n",
    "# model = model.to(device)\n",
    "# Define loss and optimizer\n",
    "criterion = nn.L1Loss()\n",
    "optimizer = optim.Adam(model.parameters(), lr=1e-3)\n",
    "scheduler = torch.optim.lr_scheduler.StepLR(optimizer, step_size=step_size, gamma=0.5)\n",
    "\n",
    "# Training loop\n",
    "num_epochs = 50\n",
    "\n",
    "model = model.to(device)\n",
    "for epoch in range(num_epochs):\n",
    "    model.train()\n",
    "    train_loss = 0.0\n",
    "    pbar = tqdm(train_loader, desc=f\"Epoch {epoch+1}/{num_epochs}\")\n",
    "    for inputs, targets in pbar:\n",
    "        inputs, targets = inputs.to(device), targets.to(device)\n",
    "\n",
    "        optimizer.zero_grad()\n",
    "        B, __, T, C = inputs.shape\n",
    "        times = torch.linspace(0, 1, steps=5, device=device)\n",
    "        # times = torch.Tensor([1.0]).to(device)\n",
    "        outputs = model(times=times,x=inputs)\n",
    "        outputs = outputs.squeeze(0)\n",
    "        outputs = outputs[-1,:]\n",
    "        # aug = torch.zeros(targets.shape[0], targets.shape[1], targets.shape[2], targets.shape[3])\n",
    "        # aug = aug.to(device)\n",
    "        # targets = torch.cat([targets, aug], -1)\n",
    "        loss = criterion(outputs, targets)\n",
    "        loss.backward()\n",
    "        optimizer.step()\n",
    "\n",
    "        train_loss += loss.item() * inputs.size(0)\n",
    "    \n",
    "    train_loss /= len(train_loader.dataset)\n",
    "    scheduler.step()\n",
    "    # Validation\n",
    "    model.eval()\n",
    "    val_loss = 0.0\n",
    "    with torch.no_grad():\n",
    "        for inputs, targets in val_loader:\n",
    "            times = torch.linspace(0, 1, steps=5, device=device)\n",
    "            # times = torch.tensor([1.0]).to(device)\n",
    "            inputs, targets = inputs.to(device), targets.to(device)\n",
    "            outputs = model(times=times, x=inputs)\n",
    "            outputs = outputs.squeeze(0)\n",
    "            outputs = outputs[-1,:]\n",
    "            loss = criterion(outputs, targets)\n",
    "            val_loss += loss.item() * inputs.size(0)\n",
    "    \n",
    "    val_loss /= len(val_loader.dataset)\n",
    "\n",
    "    print(f\"Epoch [{epoch+1}/{num_epochs}] Train MAE: {train_loss:.4f} Val MAE: {val_loss:.4f}\")"
   ]
  },
  {
   "cell_type": "code",
   "execution_count": 9,
   "id": "90db8679-e52e-439c-b728-0c0d61066564",
   "metadata": {},
   "outputs": [],
   "source": [
    "from sklearn.metrics import mean_absolute_error, mean_squared_error\n",
    "from skimage.metrics import structural_similarity as ssim\n",
    "from torchmetrics.functional import structural_similarity_index_measure as ssim_fn"
   ]
  },
  {
   "cell_type": "markdown",
   "id": "ee2519e6-acda-499b-b301-154cfb27f5e8",
   "metadata": {},
   "source": [
    "### Testing"
   ]
  },
  {
   "cell_type": "code",
   "execution_count": 10,
   "id": "1a8646d1-c6ee-4e0d-9545-2a933bb90084",
   "metadata": {},
   "outputs": [
    {
     "data": {
      "text/plain": [
       "<All keys matched successfully>"
      ]
     },
     "execution_count": 10,
     "metadata": {},
     "output_type": "execute_result"
    }
   ],
   "source": [
    "model = NeuralODE(64, 1e-3, 100)\n",
    "model.load_state_dict(torch.load('NeuralODE', map_location=torch.device('cpu')))"
   ]
  },
  {
   "cell_type": "code",
   "execution_count": 11,
   "id": "4663e8d2-8844-4e06-ba86-8cbdfe32a0e5",
   "metadata": {},
   "outputs": [],
   "source": [
    "def test_model(test_loader, model):\n",
    "    model = model.to(device)\n",
    "    criterion = nn.L1Loss()\n",
    "    optimizer = optim.Adam(model.parameters(), lr=1e-3)\n",
    "    \n",
    "    model.eval()\n",
    "    loss = torch.nn.MSELoss()\n",
    "    test_loss = 0.0\n",
    "    rmse = 0.0\n",
    "    ssim_score = 0.0\n",
    "    rel_l2 = 0.0\n",
    "    loss_ss = 0.0\n",
    "    with torch.no_grad():\n",
    "        for inputs, targets in test_loader:\n",
    "            times = torch.tensor([1.0]).to(device)\n",
    "            inputs, targets = inputs.to(device), targets.to(device)\n",
    "            outputs = model(times=times, x=inputs)\n",
    "            outputs = outputs.squeeze(0)\n",
    "            outputs = outputs[-1,:]\n",
    "            loss = criterion(outputs, targets)\n",
    "            loss_ss += (1 - ssim_fn((outputs + 1) / 2, (targets + 1) / 2, data_range=1.0)) * inputs.size(0)\n",
    "            outputs = outputs.cpu().numpy()\n",
    "            targets = targets.cpu().numpy()\n",
    "            test_loss += loss.item() * inputs.size(0)\n",
    "            rmse += np.sqrt(np.mean((outputs - targets) ** 2)) * inputs.size(0)\n",
    "            rel_l2 += (np.linalg.norm(outputs - targets) / np.linalg.norm(targets)) * inputs.size(0)\n",
    "            \n",
    "    \n",
    "    test_loss /= len(test_loader.dataset)\n",
    "\n",
    "    rmse /= len(test_loader.dataset)\n",
    "    \n",
    "    rel_l2 /= len(test_loader.dataset)\n",
    "    \n",
    "    loss_ss /= len(test_loader.dataset)\n",
    "\n",
    "    return {\n",
    "        'Test MAE': test_loss,\n",
    "        'Test RMSE': rmse,\n",
    "        'Test SSIM': loss_ss,\n",
    "        'Relative L2 Error': rel_l2\n",
    "    }"
   ]
  },
  {
   "cell_type": "code",
   "execution_count": 12,
   "id": "bb536c2a-10ee-49b7-af1d-c714a2fd8559",
   "metadata": {},
   "outputs": [
    {
     "name": "stderr",
     "output_type": "stream",
     "text": [
      "/home/hgurusan/.local/lib/python3.11/site-packages/torchmetrics/utilities/prints.py:70: FutureWarning: Importing `spectral_angle_mapper` from `torchmetrics.functional` was deprecated and will be removed in 2.0. Import `spectral_angle_mapper` from `torchmetrics.image` instead.\n",
      "  _future_warning(\n"
     ]
    },
    {
     "data": {
      "text/plain": [
       "{'Test MAE': 471.5245222981771,\n",
       " 'Test RMSE': 595.0035473632812,\n",
       " 'Test SSIM': tensor(0.8787),\n",
       " 'Relative L2 Error': 0.19859106401602428}"
      ]
     },
     "execution_count": 12,
     "metadata": {},
     "output_type": "execute_result"
    }
   ],
   "source": [
    "test_model(test_loader, model)"
   ]
  },
  {
   "cell_type": "code",
   "execution_count": 23,
   "id": "347c2718-3ce7-4be7-bddd-c6966e5c4480",
   "metadata": {},
   "outputs": [],
   "source": [
    "torch.save(model.state_dict(), \"NeuralODE\")"
   ]
  },
  {
   "cell_type": "markdown",
   "id": "cf8765a2-ce97-40a7-b1de-58bc637e96c5",
   "metadata": {},
   "source": [
    "### Visualization"
   ]
  },
  {
   "cell_type": "code",
   "execution_count": 21,
   "id": "bc1701a3-aacc-447b-91bf-1d7907ac327c",
   "metadata": {},
   "outputs": [
    {
     "data": {
      "image/png": "[encoded data removed]",
      "text/plain": [
       "<Figure size 1000x500 with 2 Axes>"
      ]
     },
     "metadata": {},
     "output_type": "display_data"
    },
    {
     "data": {
      "image/png": "[encoded data removed]",
      "text/plain": [
       "<Figure size 1000x500 with 2 Axes>"
      ]
     },
     "metadata": {},
     "output_type": "display_data"
    },
    {
     "data": {
      "image/png": "[encoded data removed]",
      "text/plain": [
       "<Figure size 1000x500 with 2 Axes>"
      ]
     },
     "metadata": {},
     "output_type": "display_data"
    },
    {
     "data": {
      "image/png": "[encoded data removed]",
      "text/plain": [
       "<Figure size 1000x500 with 2 Axes>"
      ]
     },
     "metadata": {},
     "output_type": "display_data"
    },
    {
     "data": {
      "image/png": "[encoded data removed]",
      "text/plain": [
       "<Figure size 1000x500 with 2 Axes>"
      ]
     },
     "metadata": {},
     "output_type": "display_data"
    }
   ],
   "source": [
    "model = model.to(device)\n",
    "model.eval()\n",
    "inputs, targets = next(iter(val_loader))\n",
    "# inputs, targets = inputs.to(device), targets.to(device)\n",
    "def vel_denorm(t):\n",
    "    return (t + 1) / 2 * (4500.0 - 1500.0) + 1500.0\n",
    "\n",
    "\n",
    "with torch.no_grad():\n",
    "    times = torch.Tensor([1.0]).to(device)\n",
    "    predictions = model(times=times, x=inputs)\n",
    "    predictions = predictions.squeeze(0)\n",
    "    predictions = predictions[-1, :]\n",
    "\n",
    "vel_denorm_pred = vel_denorm(predictions).cpu().numpy()\n",
    "vel_denorm_true = vel_denorm(targets).cpu().numpy()\n",
    "for i in range(min(5, inputs.size(0))):\n",
    "    fig, axs = plt.subplots(1, 2, figsize=(10, 5))\n",
    "    axs[0].imshow(targets[i][0].cpu(), cmap='jet')\n",
    "    axs[0].set_title('Ground Truth Velocity')\n",
    "    axs[1].imshow(predictions[i][0].cpu(), cmap='jet')\n",
    "    axs[1].set_title('Predicted Velocity')\n",
    "    plt.show()"
   ]
  },
  {
   "cell_type": "markdown",
   "id": "69e34523-e984-4e1a-b7af-69d8681e7658",
   "metadata": {},
   "source": [
    "### Full Augmented Neural ODE"
   ]
  },
  {
   "cell_type": "code",
   "execution_count": 13,
   "id": "c027af25-98d5-4bf1-9111-836c97164f14",
   "metadata": {},
   "outputs": [],
   "source": [
    "class AugmentedNeuralODE(nn.Module):\n",
    "    def __init__(self, latent_state, tolerance, max_steps):\n",
    "        super().__init__()\n",
    "        self.encoder = SeismicEncoder(latent_state)\n",
    "        self.decoder = VelocityDecoder(latent_state+1) \n",
    "        self.neural_ode_model = ODEFunc(latent_state+1)\n",
    "        self.tolerance = tolerance\n",
    "        self.max_steps = max_steps\n",
    "    \n",
    "    def forward(self, x, times=None):\n",
    "        x = x.to(device)\n",
    "        x = self.encoder(x)\n",
    "        if times is None:\n",
    "            times = torch.tensor([1.0]).float().type_as(x)\n",
    "            times = times.to(device)\n",
    "        x = torch.cat([x, torch.zeros(x.shape[0], x.shape[1], 1, device=x.device)], dim=-1).to(device)\n",
    "        # print(x.shape)\n",
    "        y = odeint(func=self.neural_ode_model, \n",
    "                   y0=x, \n",
    "                   t=times, \n",
    "                   atol=self.tolerance, \n",
    "                   rtol=self.tolerance, \n",
    "                   method='dopri5', \n",
    "                   options={'max_num_steps':self.max_steps})\n",
    "        # print(y.shape)\n",
    "        _, batch_size, timestep, latent = y.shape\n",
    "        pred = self.decoder(y)\n",
    "        pred = pred.to(device)\n",
    "        pred = pred.view(timestep, batch_size, 1, 70, 70)\n",
    "        return pred"
   ]
  },
  {
   "cell_type": "markdown",
   "id": "db300de9-0a7d-4bc3-a339-579ba6b5f949",
   "metadata": {},
   "source": [
    "### Training of Augmented Neural ODE"
   ]
  },
  {
   "cell_type": "code",
   "execution_count": 25,
   "id": "8a91bb02-f958-4b46-966d-7b4bf598fbc5",
   "metadata": {},
   "outputs": [
    {
     "name": "stderr",
     "output_type": "stream",
     "text": [
      "Epoch 1/50: 100%|██████████| 175/175 [00:19<00:00,  8.83it/s]\n"
     ]
    },
    {
     "name": "stdout",
     "output_type": "stream",
     "text": [
      "Epoch [1/50] Train MAE: 1562.7723 Val MAE: 610.7497\n"
     ]
    },
    {
     "name": "stderr",
     "output_type": "stream",
     "text": [
      "Epoch 2/50: 100%|██████████| 175/175 [00:19<00:00,  8.87it/s]\n"
     ]
    },
    {
     "name": "stdout",
     "output_type": "stream",
     "text": [
      "Epoch [2/50] Train MAE: 584.9748 Val MAE: 567.1219\n"
     ]
    },
    {
     "name": "stderr",
     "output_type": "stream",
     "text": [
      "Epoch 3/50: 100%|██████████| 175/175 [00:19<00:00,  8.93it/s]\n"
     ]
    },
    {
     "name": "stdout",
     "output_type": "stream",
     "text": [
      "Epoch [3/50] Train MAE: 548.0592 Val MAE: 534.7712\n"
     ]
    },
    {
     "name": "stderr",
     "output_type": "stream",
     "text": [
      "Epoch 4/50: 100%|██████████| 175/175 [00:19<00:00,  8.83it/s]\n"
     ]
    },
    {
     "name": "stdout",
     "output_type": "stream",
     "text": [
      "Epoch [4/50] Train MAE: 518.7684 Val MAE: 508.5414\n"
     ]
    },
    {
     "name": "stderr",
     "output_type": "stream",
     "text": [
      "Epoch 5/50: 100%|██████████| 175/175 [00:19<00:00,  8.82it/s]\n"
     ]
    },
    {
     "name": "stdout",
     "output_type": "stream",
     "text": [
      "Epoch [5/50] Train MAE: 504.1563 Val MAE: 495.3272\n"
     ]
    },
    {
     "name": "stderr",
     "output_type": "stream",
     "text": [
      "Epoch 6/50: 100%|██████████| 175/175 [00:19<00:00,  8.76it/s]\n"
     ]
    },
    {
     "name": "stdout",
     "output_type": "stream",
     "text": [
      "Epoch [6/50] Train MAE: 487.5120 Val MAE: 484.2802\n"
     ]
    },
    {
     "name": "stderr",
     "output_type": "stream",
     "text": [
      "Epoch 7/50: 100%|██████████| 175/175 [00:19<00:00,  8.85it/s]\n"
     ]
    },
    {
     "name": "stdout",
     "output_type": "stream",
     "text": [
      "Epoch [7/50] Train MAE: 485.4520 Val MAE: 481.0114\n"
     ]
    },
    {
     "name": "stderr",
     "output_type": "stream",
     "text": [
      "Epoch 8/50: 100%|██████████| 175/175 [00:20<00:00,  8.74it/s]\n"
     ]
    },
    {
     "name": "stdout",
     "output_type": "stream",
     "text": [
      "Epoch [8/50] Train MAE: 485.5393 Val MAE: 490.8661\n"
     ]
    },
    {
     "name": "stderr",
     "output_type": "stream",
     "text": [
      "Epoch 9/50: 100%|██████████| 175/175 [00:19<00:00,  8.93it/s]\n"
     ]
    },
    {
     "name": "stdout",
     "output_type": "stream",
     "text": [
      "Epoch [9/50] Train MAE: 475.0990 Val MAE: 479.5758\n"
     ]
    },
    {
     "name": "stderr",
     "output_type": "stream",
     "text": [
      "Epoch 10/50: 100%|██████████| 175/175 [00:19<00:00,  8.89it/s]\n"
     ]
    },
    {
     "name": "stdout",
     "output_type": "stream",
     "text": [
      "Epoch [10/50] Train MAE: 475.3752 Val MAE: 473.1002\n"
     ]
    },
    {
     "name": "stderr",
     "output_type": "stream",
     "text": [
      "Epoch 11/50: 100%|██████████| 175/175 [00:19<00:00,  8.80it/s]\n"
     ]
    },
    {
     "name": "stdout",
     "output_type": "stream",
     "text": [
      "Epoch [11/50] Train MAE: 473.0871 Val MAE: 482.3212\n"
     ]
    },
    {
     "name": "stderr",
     "output_type": "stream",
     "text": [
      "Epoch 12/50: 100%|██████████| 175/175 [00:19<00:00,  8.91it/s]\n"
     ]
    },
    {
     "name": "stdout",
     "output_type": "stream",
     "text": [
      "Epoch [12/50] Train MAE: 472.2717 Val MAE: 475.1733\n"
     ]
    },
    {
     "name": "stderr",
     "output_type": "stream",
     "text": [
      "Epoch 13/50: 100%|██████████| 175/175 [00:19<00:00,  8.88it/s]\n"
     ]
    },
    {
     "name": "stdout",
     "output_type": "stream",
     "text": [
      "Epoch [13/50] Train MAE: 470.8101 Val MAE: 471.2392\n"
     ]
    },
    {
     "name": "stderr",
     "output_type": "stream",
     "text": [
      "Epoch 14/50: 100%|██████████| 175/175 [00:20<00:00,  8.73it/s]\n"
     ]
    },
    {
     "name": "stdout",
     "output_type": "stream",
     "text": [
      "Epoch [14/50] Train MAE: 470.8882 Val MAE: 471.2495\n"
     ]
    },
    {
     "name": "stderr",
     "output_type": "stream",
     "text": [
      "Epoch 15/50: 100%|██████████| 175/175 [00:19<00:00,  8.90it/s]\n"
     ]
    },
    {
     "name": "stdout",
     "output_type": "stream",
     "text": [
      "Epoch [15/50] Train MAE: 470.2618 Val MAE: 470.8874\n"
     ]
    },
    {
     "name": "stderr",
     "output_type": "stream",
     "text": [
      "Epoch 16/50: 100%|██████████| 175/175 [00:19<00:00,  8.77it/s]\n"
     ]
    },
    {
     "name": "stdout",
     "output_type": "stream",
     "text": [
      "Epoch [16/50] Train MAE: 470.9808 Val MAE: 470.0088\n"
     ]
    },
    {
     "name": "stderr",
     "output_type": "stream",
     "text": [
      "Epoch 17/50: 100%|██████████| 175/175 [00:20<00:00,  8.73it/s]\n"
     ]
    },
    {
     "name": "stdout",
     "output_type": "stream",
     "text": [
      "Epoch [17/50] Train MAE: 470.0296 Val MAE: 483.5796\n"
     ]
    },
    {
     "name": "stderr",
     "output_type": "stream",
     "text": [
      "Epoch 18/50: 100%|██████████| 175/175 [00:19<00:00,  8.90it/s]\n"
     ]
    },
    {
     "name": "stdout",
     "output_type": "stream",
     "text": [
      "Epoch [18/50] Train MAE: 470.5977 Val MAE: 470.3750\n"
     ]
    },
    {
     "name": "stderr",
     "output_type": "stream",
     "text": [
      "Epoch 19/50: 100%|██████████| 175/175 [00:19<00:00,  8.81it/s]\n"
     ]
    },
    {
     "name": "stdout",
     "output_type": "stream",
     "text": [
      "Epoch [19/50] Train MAE: 471.3409 Val MAE: 490.7664\n"
     ]
    },
    {
     "name": "stderr",
     "output_type": "stream",
     "text": [
      "Epoch 20/50: 100%|██████████| 175/175 [00:19<00:00,  8.85it/s]\n"
     ]
    },
    {
     "name": "stdout",
     "output_type": "stream",
     "text": [
      "Epoch [20/50] Train MAE: 469.5513 Val MAE: 470.5834\n"
     ]
    },
    {
     "name": "stderr",
     "output_type": "stream",
     "text": [
      "Epoch 21/50: 100%|██████████| 175/175 [00:20<00:00,  8.74it/s]\n"
     ]
    },
    {
     "name": "stdout",
     "output_type": "stream",
     "text": [
      "Epoch [21/50] Train MAE: 467.3727 Val MAE: 468.8109\n"
     ]
    },
    {
     "name": "stderr",
     "output_type": "stream",
     "text": [
      "Epoch 22/50: 100%|██████████| 175/175 [00:19<00:00,  8.79it/s]\n"
     ]
    },
    {
     "name": "stdout",
     "output_type": "stream",
     "text": [
      "Epoch [22/50] Train MAE: 467.6591 Val MAE: 469.4890\n"
     ]
    },
    {
     "name": "stderr",
     "output_type": "stream",
     "text": [
      "Epoch 23/50: 100%|██████████| 175/175 [00:19<00:00,  8.79it/s]\n"
     ]
    },
    {
     "name": "stdout",
     "output_type": "stream",
     "text": [
      "Epoch [23/50] Train MAE: 468.5969 Val MAE: 469.5639\n"
     ]
    },
    {
     "name": "stderr",
     "output_type": "stream",
     "text": [
      "Epoch 24/50: 100%|██████████| 175/175 [00:19<00:00,  8.83it/s]\n"
     ]
    },
    {
     "name": "stdout",
     "output_type": "stream",
     "text": [
      "Epoch [24/50] Train MAE: 468.0660 Val MAE: 469.3418\n"
     ]
    },
    {
     "name": "stderr",
     "output_type": "stream",
     "text": [
      "Epoch 25/50: 100%|██████████| 175/175 [00:19<00:00,  8.89it/s]\n"
     ]
    },
    {
     "name": "stdout",
     "output_type": "stream",
     "text": [
      "Epoch [25/50] Train MAE: 467.2126 Val MAE: 469.9064\n"
     ]
    },
    {
     "name": "stderr",
     "output_type": "stream",
     "text": [
      "Epoch 26/50: 100%|██████████| 175/175 [00:19<00:00,  8.83it/s]\n"
     ]
    },
    {
     "name": "stdout",
     "output_type": "stream",
     "text": [
      "Epoch [26/50] Train MAE: 468.7871 Val MAE: 468.3238\n"
     ]
    },
    {
     "name": "stderr",
     "output_type": "stream",
     "text": [
      "Epoch 27/50: 100%|██████████| 175/175 [00:19<00:00,  8.84it/s]\n"
     ]
    },
    {
     "name": "stdout",
     "output_type": "stream",
     "text": [
      "Epoch [27/50] Train MAE: 467.1421 Val MAE: 469.2518\n"
     ]
    },
    {
     "name": "stderr",
     "output_type": "stream",
     "text": [
      "Epoch 28/50: 100%|██████████| 175/175 [00:19<00:00,  8.78it/s]\n"
     ]
    },
    {
     "name": "stdout",
     "output_type": "stream",
     "text": [
      "Epoch [28/50] Train MAE: 467.7498 Val MAE: 474.1148\n"
     ]
    },
    {
     "name": "stderr",
     "output_type": "stream",
     "text": [
      "Epoch 29/50: 100%|██████████| 175/175 [00:19<00:00,  8.82it/s]\n"
     ]
    },
    {
     "name": "stdout",
     "output_type": "stream",
     "text": [
      "Epoch [29/50] Train MAE: 468.6795 Val MAE: 468.3742\n"
     ]
    },
    {
     "name": "stderr",
     "output_type": "stream",
     "text": [
      "Epoch 30/50: 100%|██████████| 175/175 [00:19<00:00,  8.88it/s]\n"
     ]
    },
    {
     "name": "stdout",
     "output_type": "stream",
     "text": [
      "Epoch [30/50] Train MAE: 467.6693 Val MAE: 470.1156\n"
     ]
    },
    {
     "name": "stderr",
     "output_type": "stream",
     "text": [
      "Epoch 31/50: 100%|██████████| 175/175 [00:19<00:00,  8.90it/s]\n"
     ]
    },
    {
     "name": "stdout",
     "output_type": "stream",
     "text": [
      "Epoch [31/50] Train MAE: 465.8789 Val MAE: 469.9999\n"
     ]
    },
    {
     "name": "stderr",
     "output_type": "stream",
     "text": [
      "Epoch 32/50: 100%|██████████| 175/175 [00:19<00:00,  8.86it/s]\n"
     ]
    },
    {
     "name": "stdout",
     "output_type": "stream",
     "text": [
      "Epoch [32/50] Train MAE: 465.7590 Val MAE: 468.2754\n"
     ]
    },
    {
     "name": "stderr",
     "output_type": "stream",
     "text": [
      "Epoch 33/50: 100%|██████████| 175/175 [00:19<00:00,  8.91it/s]\n"
     ]
    },
    {
     "name": "stdout",
     "output_type": "stream",
     "text": [
      "Epoch [33/50] Train MAE: 466.0598 Val MAE: 467.9746\n"
     ]
    },
    {
     "name": "stderr",
     "output_type": "stream",
     "text": [
      "Epoch 34/50: 100%|██████████| 175/175 [00:19<00:00,  8.94it/s]\n"
     ]
    },
    {
     "name": "stdout",
     "output_type": "stream",
     "text": [
      "Epoch [34/50] Train MAE: 466.3243 Val MAE: 467.9480\n"
     ]
    },
    {
     "name": "stderr",
     "output_type": "stream",
     "text": [
      "Epoch 35/50: 100%|██████████| 175/175 [00:19<00:00,  8.86it/s]\n"
     ]
    },
    {
     "name": "stdout",
     "output_type": "stream",
     "text": [
      "Epoch [35/50] Train MAE: 465.5270 Val MAE: 468.8310\n"
     ]
    },
    {
     "name": "stderr",
     "output_type": "stream",
     "text": [
      "Epoch 36/50: 100%|██████████| 175/175 [00:19<00:00,  8.90it/s]\n"
     ]
    },
    {
     "name": "stdout",
     "output_type": "stream",
     "text": [
      "Epoch [36/50] Train MAE: 466.2530 Val MAE: 468.2469\n"
     ]
    },
    {
     "name": "stderr",
     "output_type": "stream",
     "text": [
      "Epoch 37/50: 100%|██████████| 175/175 [00:19<00:00,  8.95it/s]\n"
     ]
    },
    {
     "name": "stdout",
     "output_type": "stream",
     "text": [
      "Epoch [37/50] Train MAE: 466.9831 Val MAE: 468.9265\n"
     ]
    },
    {
     "name": "stderr",
     "output_type": "stream",
     "text": [
      "Epoch 38/50: 100%|██████████| 175/175 [00:19<00:00,  8.77it/s]\n"
     ]
    },
    {
     "name": "stdout",
     "output_type": "stream",
     "text": [
      "Epoch [38/50] Train MAE: 466.1848 Val MAE: 469.2357\n"
     ]
    },
    {
     "name": "stderr",
     "output_type": "stream",
     "text": [
      "Epoch 39/50: 100%|██████████| 175/175 [00:19<00:00,  8.97it/s]\n"
     ]
    },
    {
     "name": "stdout",
     "output_type": "stream",
     "text": [
      "Epoch [39/50] Train MAE: 466.1153 Val MAE: 468.2660\n"
     ]
    },
    {
     "name": "stderr",
     "output_type": "stream",
     "text": [
      "Epoch 40/50: 100%|██████████| 175/175 [00:19<00:00,  8.83it/s]\n"
     ]
    },
    {
     "name": "stdout",
     "output_type": "stream",
     "text": [
      "Epoch [40/50] Train MAE: 466.2944 Val MAE: 468.3339\n"
     ]
    },
    {
     "name": "stderr",
     "output_type": "stream",
     "text": [
      "Epoch 41/50: 100%|██████████| 175/175 [00:19<00:00,  8.82it/s]\n"
     ]
    },
    {
     "name": "stdout",
     "output_type": "stream",
     "text": [
      "Epoch [41/50] Train MAE: 465.2908 Val MAE: 468.6030\n"
     ]
    },
    {
     "name": "stderr",
     "output_type": "stream",
     "text": [
      "Epoch 42/50: 100%|██████████| 175/175 [00:19<00:00,  8.96it/s]\n"
     ]
    },
    {
     "name": "stdout",
     "output_type": "stream",
     "text": [
      "Epoch [42/50] Train MAE: 465.4356 Val MAE: 468.3184\n"
     ]
    },
    {
     "name": "stderr",
     "output_type": "stream",
     "text": [
      "Epoch 43/50: 100%|██████████| 175/175 [00:19<00:00,  8.93it/s]\n"
     ]
    },
    {
     "name": "stdout",
     "output_type": "stream",
     "text": [
      "Epoch [43/50] Train MAE: 465.9005 Val MAE: 468.0333\n"
     ]
    },
    {
     "name": "stderr",
     "output_type": "stream",
     "text": [
      "Epoch 44/50: 100%|██████████| 175/175 [00:19<00:00,  8.93it/s]\n"
     ]
    },
    {
     "name": "stdout",
     "output_type": "stream",
     "text": [
      "Epoch [44/50] Train MAE: 465.7415 Val MAE: 468.1362\n"
     ]
    },
    {
     "name": "stderr",
     "output_type": "stream",
     "text": [
      "Epoch 45/50: 100%|██████████| 175/175 [00:19<00:00,  8.95it/s]\n"
     ]
    },
    {
     "name": "stdout",
     "output_type": "stream",
     "text": [
      "Epoch [45/50] Train MAE: 465.3611 Val MAE: 468.1105\n"
     ]
    },
    {
     "name": "stderr",
     "output_type": "stream",
     "text": [
      "Epoch 46/50: 100%|██████████| 175/175 [00:19<00:00,  8.93it/s]\n"
     ]
    },
    {
     "name": "stdout",
     "output_type": "stream",
     "text": [
      "Epoch [46/50] Train MAE: 465.0078 Val MAE: 468.0273\n"
     ]
    },
    {
     "name": "stderr",
     "output_type": "stream",
     "text": [
      "Epoch 47/50: 100%|██████████| 175/175 [00:19<00:00,  8.95it/s]\n"
     ]
    },
    {
     "name": "stdout",
     "output_type": "stream",
     "text": [
      "Epoch [47/50] Train MAE: 466.6268 Val MAE: 468.4934\n"
     ]
    },
    {
     "name": "stderr",
     "output_type": "stream",
     "text": [
      "Epoch 48/50: 100%|██████████| 175/175 [00:19<00:00,  8.97it/s]\n"
     ]
    },
    {
     "name": "stdout",
     "output_type": "stream",
     "text": [
      "Epoch [48/50] Train MAE: 465.2742 Val MAE: 468.3168\n"
     ]
    },
    {
     "name": "stderr",
     "output_type": "stream",
     "text": [
      "Epoch 49/50: 100%|██████████| 175/175 [00:19<00:00,  8.96it/s]\n"
     ]
    },
    {
     "name": "stdout",
     "output_type": "stream",
     "text": [
      "Epoch [49/50] Train MAE: 465.3451 Val MAE: 468.2991\n"
     ]
    },
    {
     "name": "stderr",
     "output_type": "stream",
     "text": [
      "Epoch 50/50: 100%|██████████| 175/175 [00:19<00:00,  8.92it/s]\n"
     ]
    },
    {
     "name": "stdout",
     "output_type": "stream",
     "text": [
      "Epoch [50/50] Train MAE: 465.6957 Val MAE: 468.0219\n"
     ]
    }
   ],
   "source": [
    "model = AugmentedNeuralODE(64, 1e-3, 100)\n",
    "step_size = 10\n",
    "# model = model.to(device)\n",
    "# Define loss and optimizer\n",
    "criterion = nn.L1Loss()\n",
    "optimizer = optim.Adam(model.parameters(), lr=1e-3)\n",
    "scheduler = torch.optim.lr_scheduler.StepLR(optimizer, step_size=step_size, gamma=0.5)\n",
    "\n",
    "# Training loop\n",
    "num_epochs = 50\n",
    "model = model.to(device)\n",
    "for epoch in range(num_epochs):\n",
    "    model.train()\n",
    "    train_loss = 0.0\n",
    "    pbar = tqdm(train_loader, desc=f\"Epoch {epoch+1}/{num_epochs}\")\n",
    "    for inputs, targets in pbar:\n",
    "        inputs, targets = inputs.to(device), targets.to(device)\n",
    "\n",
    "        optimizer.zero_grad()\n",
    "        B, __, T, C = inputs.shape\n",
    "        # times = torch.linspace(0, 1, steps=T, device=device)\n",
    "        times = torch.Tensor([1.0]).to(device)\n",
    "        outputs = model(times=times, x=inputs)\n",
    "        outputs = outputs.squeeze(0)\n",
    "        outputs = outputs[-1,:]\n",
    "        # aug = torch.zeros(targets.shape[0], targets.shape[1], targets.shape[2], 1)\n",
    "        # aug = aug.to(device)\n",
    "        # targets = torch.cat([targets, aug], -1)\n",
    "        # print(targets.shape)\n",
    "        # print(outputs.shape)\n",
    "        loss = criterion(outputs, targets)\n",
    "        loss.backward()\n",
    "        optimizer.step()\n",
    "\n",
    "        train_loss += loss.item() * inputs.size(0)\n",
    "    \n",
    "    train_loss /= len(train_loader.dataset)\n",
    "    scheduler.step()\n",
    "    # Validation\n",
    "    model.eval()\n",
    "    val_loss = 0.0\n",
    "    with torch.no_grad():\n",
    "        for inputs, targets in val_loader:\n",
    "            t = torch.tensor([1.0]).to(device)\n",
    "            inputs, targets = inputs.to(device), targets.to(device)\n",
    "            outputs = model(times=times, x=inputs)\n",
    "            outputs = outputs.squeeze(0)\n",
    "            outputs = outputs[-1,:]\n",
    "            # aug = torch.zeros(targets.shape[0], targets.shape[1], targets.shape[2], 1)\n",
    "            # targets = torch.cat([targets, aug], -1)\n",
    "            loss = criterion(outputs, targets)\n",
    "            val_loss += loss.item() * inputs.size(0)\n",
    "    \n",
    "    val_loss /= len(val_loader.dataset)\n",
    "\n",
    "    print(f\"Epoch [{epoch+1}/{num_epochs}] Train MAE: {train_loss:.4f} Val MAE: {val_loss:.4f}\")"
   ]
  },
  {
   "cell_type": "code",
   "execution_count": 14,
   "id": "35cdf451-c84c-4da9-a33c-cbff4cba7670",
   "metadata": {},
   "outputs": [
    {
     "data": {
      "text/plain": [
       "{'Test MAE': 471.3714628092448,\n",
       " 'Test RMSE': 595.1661547851562,\n",
       " 'Test SSIM': tensor(0.8759),\n",
       " 'Relative L2 Error': 0.19861093839009603}"
      ]
     },
     "execution_count": 14,
     "metadata": {},
     "output_type": "execute_result"
    }
   ],
   "source": [
    "model = AugmentedNeuralODE(64, 1e-3, 100)\n",
    "model.load_state_dict(torch.load('AugmentedNeuralODE', map_location=torch.device('cpu')))\n",
    "test_model(test_loader, model)"
   ]
  },
  {
   "cell_type": "code",
   "execution_count": 28,
   "id": "3f714de6-3cbf-494a-bde4-098feb2ca4c3",
   "metadata": {},
   "outputs": [],
   "source": [
    "torch.save(model.state_dict(), \"AugmentedNeuralODE\")"
   ]
  },
  {
   "cell_type": "code",
   "execution_count": 31,
   "id": "11fab605-73e1-4dc4-b950-2220ad5d46a8",
   "metadata": {},
   "outputs": [
    {
     "data": {
      "image/png": "[encoded data removed]",
      "text/plain": [
       "<Figure size 1000x500 with 2 Axes>"
      ]
     },
     "metadata": {},
     "output_type": "display_data"
    },
    {
     "data": {
      "image/png": "[encoded data removed]",
      "text/plain": [
       "<Figure size 1000x500 with 2 Axes>"
      ]
     },
     "metadata": {},
     "output_type": "display_data"
    },
    {
     "data": {
      "image/png": "[encoded data removed]",
      "text/plain": [
       "<Figure size 1000x500 with 2 Axes>"
      ]
     },
     "metadata": {},
     "output_type": "display_data"
    },
    {
     "data": {
      "image/png": "[encoded data removed]",
      "text/plain": [
       "<Figure size 1000x500 with 2 Axes>"
      ]
     },
     "metadata": {},
     "output_type": "display_data"
    },
    {
     "data": {
      "image/png": "[encoded data removed]",
      "text/plain": [
       "<Figure size 1000x500 with 2 Axes>"
      ]
     },
     "metadata": {},
     "output_type": "display_data"
    }
   ],
   "source": [
    "model = model.to(device)\n",
    "model.eval()\n",
    "inputs, targets = next(iter(val_loader))\n",
    "inputs, targets = inputs.to(device), targets.to(device)\n",
    "with torch.no_grad():\n",
    "    times = torch.Tensor([1.0]).to(device)\n",
    "    predictions = model(times=times, x=inputs)\n",
    "    predictions = predictions.squeeze(0)\n",
    "    predictions = predictions[-1, :]\n",
    "\n",
    "for i in range(min(5, inputs.size(0))):\n",
    "    fig, axs = plt.subplots(1, 2, figsize=(10, 5))\n",
    "    axs[0].imshow(targets[i][0].cpu(), cmap='jet')\n",
    "    axs[0].set_title('Ground Truth Velocity')\n",
    "    axs[1].imshow(predictions[i][0].cpu(), cmap='jet')\n",
    "    axs[1].set_title('Predicted Velocity')\n",
    "    plt.show()"
   ]
  },
  {
   "cell_type": "markdown",
   "id": "3f329560-7573-4ce9-8888-1ff0c831a5af",
   "metadata": {},
   "source": [
    "### Further Visualizations"
   ]
  },
  {
   "cell_type": "code",
   "execution_count": null,
   "id": "dea6b56a-0466-4b0d-80c5-90a61a1be8d1",
   "metadata": {},
   "outputs": [],
   "source": []
  }
 ],
 "metadata": {
  "kernelspec": {
   "display_name": "Python 3 (ipykernel)",
   "language": "python",
   "name": "python3"
  },
  "language_info": {
   "codemirror_mode": {
    "name": "ipython",
    "version": 3
   },
   "file_extension": ".py",
   "mimetype": "text/x-python",
   "name": "python",
   "nbconvert_exporter": "python",
   "pygments_lexer": "ipython3",
   "version": "3.11.9"
  }
 },
 "nbformat": 4,
 "nbformat_minor": 5
}
